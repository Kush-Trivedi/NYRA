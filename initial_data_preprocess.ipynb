{
 "cells": [
  {
   "cell_type": "code",
   "execution_count": 1,
   "id": "07a1c765-a9ba-4283-87c9-4d976bd116f9",
   "metadata": {},
   "outputs": [],
   "source": [
    "import pandas as pd"
   ]
  },
  {
   "cell_type": "code",
   "execution_count": 2,
   "id": "c5760183-7f27-4658-a377-f2bbb109093c",
   "metadata": {},
   "outputs": [],
   "source": [
    "df1 = pd.read_csv('nyra_2019_complete.csv', low_memory=False, parse_dates=['race_date'])\n",
    "df2 = pd.read_csv('horse_ids.csv',parse_dates=['race_date'])\n",
    "df3 = pd.read_csv('horse_names.csv')"
   ]
  },
  {
   "cell_type": "code",
   "execution_count": 3,
   "id": "8d49e1eb-879e-4ab1-a677-d8d70d3fb1e7",
   "metadata": {},
   "outputs": [],
   "source": [
    "df1['program_number'] = df1['program_number'].str.strip()\n",
    "df2.drop('Unnamed: 0', axis=1, inplace=True)\n",
    "df2.rename(columns={'race': 'race_number'}, inplace=True)\n",
    "df3.drop('Unnamed: 0', axis=1, inplace=True)"
   ]
  },
  {
   "cell_type": "code",
   "execution_count": 4,
   "id": "bb976b3e-2de1-48ec-86b4-298f51fc8063",
   "metadata": {},
   "outputs": [],
   "source": [
    "df4 = pd.merge(df1,df2, on=['track_id','race_date','race_number','program_number'])"
   ]
  },
  {
   "cell_type": "code",
   "execution_count": 5,
   "id": "b0b7b374-da6a-4e7d-b4e7-c0e1bbed5107",
   "metadata": {},
   "outputs": [],
   "source": [
    "df5 = pd.merge(df4,df3, on=['horse_id'])"
   ]
  },
  {
   "cell_type": "code",
   "execution_count": 6,
   "id": "7091863b-0ba6-4bfd-8fd4-12a7efa2776b",
   "metadata": {},
   "outputs": [],
   "source": [
    "df6 = df5.copy()\n",
    "l = ['6', '2', '9', '5', '3', '1', '4', '7', '8']\n",
    "l1 = ['11', '10', '1A', '13', '12', '2B', '14', '15', '16', '3X', '1X']\n",
    "new_d1 = df6[df6[\"program_number\"].isin(l)]\n",
    "new_d2 = df6[df6[\"program_number\"].isin(l1)]"
   ]
  },
  {
   "cell_type": "code",
   "execution_count": 7,
   "id": "68c11630-fce1-4e23-b829-89646c9a66a8",
   "metadata": {},
   "outputs": [
    {
     "name": "stderr",
     "output_type": "stream",
     "text": [
      "/var/folders/yh/rstgp4095fv677pz79rgwyx40000gn/T/ipykernel_17240/1214899009.py:4: SettingWithCopyWarning: \n",
      "A value is trying to be set on a copy of a slice from a DataFrame.\n",
      "Try using .loc[row_indexer,col_indexer] = value instead\n",
      "\n",
      "See the caveats in the documentation: https://pandas.pydata.org/pandas-docs/stable/user_guide/indexing.html#returning-a-view-versus-a-copy\n",
      "  new_d1['program_number'] = new_d1['program_number'].astype(str).apply(lambda x: insert_two_space(x, 1))\n",
      "/var/folders/yh/rstgp4095fv677pz79rgwyx40000gn/T/ipykernel_17240/1214899009.py:9: SettingWithCopyWarning: \n",
      "A value is trying to be set on a copy of a slice from a DataFrame.\n",
      "Try using .loc[row_indexer,col_indexer] = value instead\n",
      "\n",
      "See the caveats in the documentation: https://pandas.pydata.org/pandas-docs/stable/user_guide/indexing.html#returning-a-view-versus-a-copy\n",
      "  new_d2['program_number'] = new_d2['program_number'].astype(str).apply(lambda x: insert_one_space(x, 2))\n"
     ]
    }
   ],
   "source": [
    "def insert_two_space(string, integer):\n",
    "    return string[0:integer] + '  ' + string[integer:]\n",
    "\n",
    "new_d1['program_number'] = new_d1['program_number'].astype(str).apply(lambda x: insert_two_space(x, 1))\n",
    "\n",
    "def insert_one_space(string, integer):\n",
    "    return string[0:integer] + ' ' + string[integer:]\n",
    "\n",
    "new_d2['program_number'] = new_d2['program_number'].astype(str).apply(lambda x: insert_one_space(x, 2))"
   ]
  },
  {
   "cell_type": "code",
   "execution_count": 8,
   "id": "d85d60da-8f63-4983-b929-e09578cba7dc",
   "metadata": {},
   "outputs": [],
   "source": [
    "df7 = pd.concat([new_d1,new_d2])\n",
    "df7.drop('horse_id', axis=1, inplace=True)"
   ]
  },
  {
   "cell_type": "code",
   "execution_count": 9,
   "id": "b9cba40f-5027-4bee-97ca-bc87fc7772fa",
   "metadata": {},
   "outputs": [],
   "source": [
    "df7['furlongs'] = df7.distance_id / 100\n",
    "df7.drop('distance_id', axis=1, inplace=True)\n",
    "df7['new_odds'] = df7['odds'] / 100\n",
    "df7['new_odds'] = df7['new_odds'].apply(lambda x: round(x,1))\n",
    "df7['new_odds'] = df7['new_odds'].astype(str)\n",
    "df7[\"new_odds\"] = df7[\"new_odds\"] + \"-1\"\n",
    "df7[\"implied_probability\"] = round(100 / (df7.odds + 100) * 100, 2)\n",
    "df7.rename(columns={'odds': 'american_odds'}, inplace=True)\n",
    "df8 = pd.read_csv('nyc_temperature.csv',parse_dates=['date'])\n",
    "df8.rename(columns={'date': 'race_date'}, inplace=True)\n",
    "df8.rename(columns={'tavg': 'average_temperature'}, inplace=True)\n",
    "df8.drop(['tmax', 'tmin','departure','HDD','CDD','precipitation','new_snow','snow_depth'], axis=1, inplace=True)"
   ]
  },
  {
   "cell_type": "code",
   "execution_count": 10,
   "id": "e4f9dafb-5d31-471f-bee3-022641a178d7",
   "metadata": {},
   "outputs": [],
   "source": [
    "df9 = pd.merge(df7,df8, on='race_date')"
   ]
  },
  {
   "cell_type": "code",
   "execution_count": 11,
   "id": "45c4f2a0-49e2-4df1-b57e-53d585e9a220",
   "metadata": {},
   "outputs": [],
   "source": [
    "valmap = {\n",
    "    1: '10', \n",
    "    2: '9',\n",
    "    3: '8',\n",
    "    4: '7',\n",
    "    5: '6',\n",
    "    6: '5',\n",
    "    7: '4',\n",
    "    8: '3',\n",
    "    9: '2',\n",
    "    10: '1',\n",
    "    11: '1',\n",
    "    12: '1',\n",
    "    13: '1',\n",
    "    14: '1'\n",
    "}\n",
    "\n",
    "df9['rating'] = df9['finishing_place'].map(valmap)"
   ]
  },
  {
   "cell_type": "code",
   "execution_count": 12,
   "id": "e74a3125-301d-4adb-a4f2-fc9494537188",
   "metadata": {},
   "outputs": [],
   "source": [
    "df9['rating'] = df9.rating.astype(int)"
   ]
  },
  {
   "cell_type": "code",
   "execution_count": 13,
   "id": "d2f0cbfa-20f7-4350-a00b-e58ed8abb449",
   "metadata": {},
   "outputs": [],
   "source": [
    "df9.to_csv('new_nyra_2019_complete.csv',index=False)\n",
    "df9.to_parquet('new_nyra_2019_complete.parquet')"
   ]
  }
 ],
 "metadata": {
  "kernelspec": {
   "display_name": "Python 3 (ipykernel)",
   "language": "python",
   "name": "python3"
  },
  "language_info": {
   "codemirror_mode": {
    "name": "ipython",
    "version": 3
   },
   "file_extension": ".py",
   "mimetype": "text/x-python",
   "name": "python",
   "nbconvert_exporter": "python",
   "pygments_lexer": "ipython3",
   "version": "3.9.12"
  }
 },
 "nbformat": 4,
 "nbformat_minor": 5
}
