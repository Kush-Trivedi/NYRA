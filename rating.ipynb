{
 "cells": [
  {
   "cell_type": "code",
   "execution_count": 1,
   "id": "003f6f11-59b5-4993-8787-508910f45778",
   "metadata": {},
   "outputs": [],
   "source": [
    "import pandas as pd\n",
    "pd.set_option('display.max_rows', 500)"
   ]
  },
  {
   "cell_type": "code",
   "execution_count": 2,
   "id": "fc9f67fb-1963-42a8-ae93-a2eefa402af8",
   "metadata": {},
   "outputs": [],
   "source": [
    "df = pd.read_csv(\"rating.csv\",parse_dates=[\"race_date\"])\n",
    "\n",
    "custom_rating_map = {1: '10', 2: '9', 3: '8', 4: '7', 5: '6', 6: '5', 7: '4', 8: '3', 9: '2', 10: '1', 11: '1', 12: '1', 13: '1', 14: '1', 11: '1', 12: '1', 13: '1', 14: '1', 15: '1', 16: '1', 17: '1', 18: '1', 19: '1', 20: '1'}\n",
    "df['rating'] = df['finish_position'].map(custom_rating_map)\n",
    "\n",
    "most_recent_date = df['race_date'].max()\n",
    "critical_date = most_recent_date - pd.Timedelta(days=3)\n",
    "last_20_day_df = df.loc[df.race_date > critical_date]"
   ]
  },
  {
   "cell_type": "code",
   "execution_count": 3,
   "id": "f58c3c0e-7825-4566-8a34-0210baebb7e9",
   "metadata": {},
   "outputs": [],
   "source": [
    "# df_rice = df[df['owner'].str.contains('Rice, Linda')]\n",
    "# df_rice['owner'] = df_rice['owner'].str.replace('Rice, Linda','Linda Rice')\n",
    "# df.update(df_rice)\n",
    "# df_m_a = df[df['owner'].str.contains('M and A Racing LTD')]\n",
    "# df_m_a['owner'] = df_m_a['owner'].str.replace('M and A Racing LTD','M & A Racing LTD')\n",
    "# df.update(df_m_a)\n",
    "# df_all = df[df['owner'].str.contains('LLC|Inc|Jr|Sr')]\n",
    "# df_all['owner'] = df_all['owner'].str.replace(',','')\n",
    "# df.update(df_all)\n",
    "# df_llc = df[df['owner'].str.contains('LLC')]\n",
    "# df_llc['owner'] = df_llc['owner'].str.replace(' LLC__',' LLC,')\n",
    "# df.update(df_llc)\n",
    "# df_and = df[df['owner'].str.contains(' and ')]\n",
    "# df_and['owner'] = df_and['owner'].str.replace(' and ',' and,')\n",
    "# df.update(df_and)\n",
    "# df_and_coma = df[df['owner'].str.contains(' and,')]\n",
    "# df_and_coma['owner'] = df_and_coma['owner'].str.replace(' and,',',')\n",
    "# df.update(df_and_coma)\n",
    "# df['owner'] = df['owner'].str.split(',').map(lambda elements: [e.strip() for e in elements])\n",
    "# df = df.explode('owner')"
   ]
  },
  {
   "cell_type": "code",
   "execution_count": 4,
   "id": "0b0d1e81-816c-43d5-8160-5f8ae4462e72",
   "metadata": {},
   "outputs": [],
   "source": [
    "jockey = pd.DataFrame({'Frequency': df.groupby(['jockey','rating'])['rating'].nunique()}).reset_index()\n",
    "jockey_rating_overall = pd.DataFrame({'overall_rating':jockey.groupby('jockey')['rating'].median().round().astype(int)}).reset_index()\n",
    "jockey_last_20_day = pd.DataFrame({'Frequency': last_20_day_df.groupby(['race_date', 'race_tyoe','distance_id','course_type','track_condition','jockey','finish_position'])['finish_position'].nunique()}).reset_index()\n",
    "jockey_last_20_day['rating_update'] = jockey_last_20_day['finish_position'].map(custom_rating_map)\n",
    "jockey_rating_updated = pd.DataFrame({'rating_update':jockey_last_20_day.groupby('jockey')['rating_update'].median().round().astype(int)}).reset_index()\n",
    "jockey_rating = jockey_rating_overall.merge(jockey_rating_updated, how='left').fillna(0)\n",
    "jockey_rating['rating'] = ((jockey_rating['overall_rating'] + jockey_rating['rating_update']) / 2)\n",
    "jockey_rating = jockey_rating[[\"jockey\",\"rating\"]]\n",
    "\n",
    "\n",
    "trainer = pd.DataFrame({'Frequency': df.groupby(['trainer','rating'])['rating'].nunique()}).reset_index()\n",
    "trainer_rating = pd.DataFrame({'rating':trainer.groupby('trainer')['rating'].median().round().astype(int)}).reset_index()\n",
    "\n",
    "\n",
    "owner = pd.DataFrame({'Frequency': df.groupby(['owner','rating'])['rating'].nunique()}).reset_index()\n",
    "owner_rating = pd.DataFrame({'rating':owner.groupby('owner')['rating'].median().round().astype(int)}).reset_index()\n",
    "\n",
    "\n",
    "program_number = pd.DataFrame({'Frequency': df.groupby(['program_number','rating'])['rating'].nunique()}).reset_index()\n",
    "program_number_rating = pd.DataFrame({'rating':program_number.groupby('program_number')['rating'].median().round().astype(int)}).reset_index()\n",
    "\n",
    "\n",
    "horse_age_data = {'age': [2,3,4,5,6,7,8,9,10,11],'rating': [6,10,9,8,7,5,4,3,2,1]}\n",
    "horse_age_rating = pd.DataFrame(horse_age_data)\n",
    "\n"
   ]
  }
 ],
 "metadata": {
  "kernelspec": {
   "display_name": "Python 3 (ipykernel)",
   "language": "python",
   "name": "python3"
  },
  "language_info": {
   "codemirror_mode": {
    "name": "ipython",
    "version": 3
   },
   "file_extension": ".py",
   "mimetype": "text/x-python",
   "name": "python",
   "nbconvert_exporter": "python",
   "pygments_lexer": "ipython3",
   "version": "3.9.12"
  }
 },
 "nbformat": 4,
 "nbformat_minor": 5
}
